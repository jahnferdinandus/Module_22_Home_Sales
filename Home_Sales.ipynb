{
  "cells": [
    {
      "cell_type": "code",
      "source": [
        "!ls {spark_version}-bin-hadoop3.tgz"
      ],
      "metadata": {
        "colab": {
          "base_uri": "https://localhost:8080/"
        },
        "id": "aa7fMJZoYQ4Q",
        "outputId": "26314bb0-3560-44aa-db51-bb304afb2e1e"
      },
      "execution_count": 4,
      "outputs": [
        {
          "output_type": "stream",
          "name": "stdout",
          "text": [
            "ls: cannot access 'spark-3.4.0-bin-hadoop3.tgz': No such file or directory\n"
          ]
        }
      ]
    },
    {
      "cell_type": "code",
      "execution_count": 5,
      "metadata": {
        "colab": {
          "base_uri": "https://localhost:8080/"
        },
        "id": "a_KW73O2e3dw",
        "outputId": "1ef758e0-f0e5-432f-ed0e-e3415cb409a6"
      },
      "outputs": [
        {
          "output_type": "stream",
          "name": "stdout",
          "text": [
            "\r0% [Working]\r            \rHit:1 https://cloud.r-project.org/bin/linux/ubuntu jammy-cran40/ InRelease\n",
            "\r0% [Connecting to archive.ubuntu.com (91.189.91.82)] [Connecting to security.ubuntu.com] [Connecting\r                                                                                                    \rHit:2 http://archive.ubuntu.com/ubuntu jammy InRelease\n",
            "Get:3 http://archive.ubuntu.com/ubuntu jammy-updates InRelease [119 kB]\n",
            "Hit:4 https://developer.download.nvidia.com/compute/cuda/repos/ubuntu2204/x86_64  InRelease\n",
            "Get:5 http://security.ubuntu.com/ubuntu jammy-security InRelease [110 kB]\n",
            "Hit:6 http://archive.ubuntu.com/ubuntu jammy-backports InRelease\n",
            "Hit:7 https://ppa.launchpadcontent.net/c2d4u.team/c2d4u4.0+/ubuntu jammy InRelease\n",
            "Hit:8 https://ppa.launchpadcontent.net/deadsnakes/ppa/ubuntu jammy InRelease\n",
            "Hit:9 https://ppa.launchpadcontent.net/graphics-drivers/ppa/ubuntu jammy InRelease\n",
            "Hit:10 https://ppa.launchpadcontent.net/ubuntugis/ppa/ubuntu jammy InRelease\n",
            "Fetched 229 kB in 1s (172 kB/s)\n",
            "Reading package lists... Done\n"
          ]
        }
      ],
      "source": [
        "import os\n",
        "# Find the latest version of spark 3.x  from http://www.apache.org/dist/spark/ and enter as the spark version\n",
        "# For example:\n",
        "# spark_version = 'spark-3.4.0'\n",
        "spark_version = 'spark-3.4.2'\n",
        "os.environ['SPARK_VERSION']=spark_version\n",
        "\n",
        "# Install Spark and Java\n",
        "!apt-get update\n",
        "!apt-get install openjdk-11-jdk-headless -qq > /dev/null\n",
        "!wget -q http://www.apache.org/dist/spark/$SPARK_VERSION/$SPARK_VERSION-bin-hadoop3.tgz\n",
        "!tar xf $SPARK_VERSION-bin-hadoop3.tgz\n",
        "!pip install -q findspark\n",
        "\n",
        "# Set Environment Variables\n",
        "os.environ[\"JAVA_HOME\"] = \"/usr/lib/jvm/java-11-openjdk-amd64\"\n",
        "os.environ[\"SPARK_HOME\"] = f\"/content/{spark_version}-bin-hadoop3\"\n",
        "\n",
        "# Start a SparkSession\n",
        "import findspark\n",
        "findspark.init()"
      ]
    },
    {
      "cell_type": "code",
      "execution_count": 25,
      "metadata": {
        "id": "2XbWNf1Te5fM"
      },
      "outputs": [],
      "source": [
        "# Import packages\n",
        "from pyspark.sql import SparkSession\n",
        "from pyspark.sql.functions import col\n",
        "import time\n",
        "\n",
        "# Create a SparkSession\n",
        "spark = SparkSession.builder.appName(\"SparkSQL\").getOrCreate()"
      ]
    },
    {
      "cell_type": "code",
      "execution_count": 26,
      "metadata": {
        "id": "wOJqxG_RPSwp"
      },
      "outputs": [],
      "source": [
        "# 1. Read in the AWS S3 bucket into a DataFrame.\n",
        "from pyspark import SparkFiles\n",
        "url = \"https://2u-data-curriculum-team.s3.amazonaws.com/dataviz-classroom/v1.2/22-big-data/home_sales_revised.csv\"\n",
        "\n",
        "spark.sparkContext.addFile(url)\n",
        "file_path = \"file://\" + SparkFiles.get(\"home_sales_revised.csv\")\n",
        "\n",
        "# Read data into a DataFrame\n",
        "home_sales_df = spark.read.csv(file_path, header=True, inferSchema=True)"
      ]
    },
    {
      "cell_type": "code",
      "execution_count": 39,
      "metadata": {
        "id": "RoljcJ7WPpnm",
        "colab": {
          "base_uri": "https://localhost:8080/"
        },
        "outputId": "bc105a35-4d2d-4536-a872-653228bfb1d4"
      },
      "outputs": [
        {
          "output_type": "stream",
          "name": "stdout",
          "text": [
            "+--------------------+----------+----------+------+--------+---------+-----------+--------+------+----------+----+\n",
            "|                  id|      date|date_built| price|bedrooms|bathrooms|sqft_living|sqft_lot|floors|waterfront|view|\n",
            "+--------------------+----------+----------+------+--------+---------+-----------+--------+------+----------+----+\n",
            "|f8a53099-ba1c-47d...|2022-04-08|      2016|936923|       4|        3|       3167|   11733|     2|         1|  76|\n",
            "|7530a2d8-1ae3-451...|2021-06-13|      2013|379628|       2|        2|       2235|   14384|     1|         0|  23|\n",
            "|43de979c-0bf0-4c9...|2019-04-12|      2014|417866|       2|        2|       2127|   10575|     2|         0|   0|\n",
            "|b672c137-b88c-48b...|2019-10-16|      2016|239895|       2|        2|       1631|   11149|     2|         0|   0|\n",
            "|e0726d4d-d595-407...|2022-01-08|      2017|424418|       3|        2|       2249|   13878|     2|         0|   4|\n",
            "|5aa00529-0533-46b...|2019-01-30|      2017|218712|       2|        3|       1965|   14375|     2|         0|   7|\n",
            "|131492a1-72e2-4a8...|2020-02-08|      2017|419199|       2|        3|       2062|    8876|     2|         0|   6|\n",
            "|8d54a71b-c520-44e...|2019-07-21|      2010|323956|       2|        3|       1506|   11816|     1|         0|  25|\n",
            "|e81aacfe-17fe-46b...|2020-06-16|      2016|181925|       3|        3|       2137|   11709|     2|         0|  22|\n",
            "|2ed8d509-7372-46d...|2021-08-06|      2015|258710|       3|        3|       1918|    9666|     1|         0|  25|\n",
            "|f876d86f-3c9f-42b...|2019-02-27|      2011|167864|       3|        3|       2471|   13924|     2|         0|  15|\n",
            "|0a2bd445-8508-4d8...|2021-12-30|      2014|337527|       2|        3|       1926|   12556|     1|         0|  23|\n",
            "|941bad30-eb49-4a7...|2020-05-09|      2015|229896|       3|        3|       2197|    8641|     1|         0|   3|\n",
            "|dd61eb34-6589-4c0...|2021-07-25|      2016|210247|       3|        2|       1672|   11986|     2|         0|  28|\n",
            "|f1e4cef7-d151-439...|2019-02-01|      2011|398667|       2|        3|       2331|   11356|     1|         0|   7|\n",
            "|ea620c7b-c2f7-4c6...|2021-05-31|      2011|437958|       3|        3|       2356|   11052|     1|         0|  26|\n",
            "|f233cb41-6f33-4b0...|2021-07-18|      2016|437375|       4|        3|       1704|   11721|     2|         0|  34|\n",
            "|c797ca12-52cd-4b1...|2019-06-08|      2015|288650|       2|        3|       2100|   10419|     2|         0|   7|\n",
            "|0cfe57f3-28c2-472...|2019-10-04|      2015|308313|       3|        3|       1960|    9453|     2|         0|   2|\n",
            "|4566cd2a-ac6e-435...|2019-07-15|      2016|177541|       3|        3|       2130|   10517|     2|         0|  25|\n",
            "+--------------------+----------+----------+------+--------+---------+-----------+--------+------+----------+----+\n",
            "only showing top 20 rows\n",
            "\n"
          ]
        }
      ],
      "source": [
        "# 2. Create a temporary view of the DataFrame.\n",
        "home_sales_df.createOrReplaceTempView(\"home_sales\")\n",
        "\n",
        "spark.sql(\"SELECT * FROM home_sales_view\").show()"
      ]
    },
    {
      "cell_type": "code",
      "execution_count": 40,
      "metadata": {
        "id": "L6fkwOeOmqvq",
        "colab": {
          "base_uri": "https://localhost:8080/"
        },
        "outputId": "a8fd9d90-c694-456f-8c21-65ccb997218c"
      },
      "outputs": [
        {
          "output_type": "stream",
          "name": "stdout",
          "text": [
            "+---------+---------+\n",
            "|sale_year|avg_price|\n",
            "+---------+---------+\n",
            "|     2019| 300263.7|\n",
            "|     2020|298353.78|\n",
            "|     2021|301819.44|\n",
            "|     2022|296363.88|\n",
            "+---------+---------+\n",
            "\n"
          ]
        }
      ],
      "source": [
        "# 3. What is the average price for a four bedroom house sold in each year rounded to two decimal places?\n",
        "\n",
        "average_price_query = \"\"\"\n",
        "SELECT\n",
        "    DISTINCT year(date) as sale_year,\n",
        "    ROUND(AVG(CASE WHEN bedrooms = 4 THEN price ELSE null END), 2) as avg_price\n",
        "FROM\n",
        "    home_sales\n",
        "GROUP BY\n",
        "    sale_year\n",
        "ORDER BY\n",
        "    sale_year\n",
        "\"\"\"\n",
        "\n",
        "# Execute the query\n",
        "average_price_result = spark.sql(average_price_query)\n",
        "\n",
        "# Show the result\n",
        "average_price_result.show()"
      ]
    },
    {
      "cell_type": "code",
      "execution_count": 41,
      "metadata": {
        "id": "l8p_tUS8h8it",
        "colab": {
          "base_uri": "https://localhost:8080/"
        },
        "outputId": "c706ff91-49fc-460a-9e30-a596254e16b9"
      },
      "outputs": [
        {
          "output_type": "stream",
          "name": "stdout",
          "text": [
            "+----------+---------+\n",
            "|date_built|avg_price|\n",
            "+----------+---------+\n",
            "|      2010|292859.62|\n",
            "|      2011|291117.47|\n",
            "|      2012|293683.19|\n",
            "|      2013|295962.27|\n",
            "|      2014|290852.27|\n",
            "|      2015| 288770.3|\n",
            "|      2016|290555.07|\n",
            "|      2017|292676.79|\n",
            "+----------+---------+\n",
            "\n"
          ]
        }
      ],
      "source": [
        "# 4. What is the average price of a home for each year the home was built that have 3 bedrooms and 3 bathrooms rounded to two decimal places?\n",
        "average_price_query = \"\"\"\n",
        "SELECT\n",
        "    date_built,\n",
        "    ROUND(AVG(CASE WHEN bedrooms = 3 AND bathrooms = 3 THEN price ELSE null END), 2) as avg_price\n",
        "FROM\n",
        "    home_sales\n",
        "GROUP BY\n",
        "    date_built\n",
        "ORDER BY\n",
        "    date_built\n",
        "\"\"\"\n",
        "\n",
        "# Execute the query\n",
        "average_price_result = spark.sql(average_price_query)\n",
        "\n",
        "# Show the result\n",
        "average_price_result.show()\n"
      ]
    },
    {
      "cell_type": "code",
      "execution_count": 42,
      "metadata": {
        "id": "Y-Eytz64liDU",
        "colab": {
          "base_uri": "https://localhost:8080/"
        },
        "outputId": "2a810553-0a0f-465b-aa56-aaddbcf7e401"
      },
      "outputs": [
        {
          "output_type": "stream",
          "name": "stdout",
          "text": [
            "+----------+---------+\n",
            "|date_built|avg_price|\n",
            "+----------+---------+\n",
            "|      2010|285010.22|\n",
            "|      2011|276553.81|\n",
            "|      2012|307539.97|\n",
            "|      2013|303676.79|\n",
            "|      2014|298264.72|\n",
            "|      2015|297609.97|\n",
            "|      2016| 293965.1|\n",
            "|      2017|280317.58|\n",
            "+----------+---------+\n",
            "\n"
          ]
        }
      ],
      "source": [
        "# 5. What is the average price of a home for each year built that have 3 bedrooms, 3 bathrooms, with two floors,\n",
        "# and are greater than or equal to 2,000 square feet rounded to two decimal places?\n",
        "\n",
        "average_price_query = \"\"\"\n",
        "SELECT\n",
        "    date_built,\n",
        "    ROUND(AVG(CASE WHEN bedrooms = 3 AND bathrooms = 3 AND floors = 2 AND sqft_living >= 2000 THEN price ELSE null END), 2) as avg_price\n",
        "FROM\n",
        "    home_sales\n",
        "GROUP BY\n",
        "    date_built\n",
        "ORDER BY\n",
        "    date_built\n",
        "\"\"\"\n",
        "\n",
        "# Execute the query\n",
        "average_price_result = spark.sql(average_price_query)\n",
        "\n",
        "# Show the result\n",
        "average_price_result.show()"
      ]
    },
    {
      "cell_type": "code",
      "execution_count": 43,
      "metadata": {
        "colab": {
          "base_uri": "https://localhost:8080/"
        },
        "id": "GUrfgOX1pCRd",
        "outputId": "835f6607-3cc5-43bd-c484-6305ae0dab1e"
      },
      "outputs": [
        {
          "output_type": "stream",
          "name": "stdout",
          "text": [
            "+---------------+\n",
            "|avg_view_rating|\n",
            "+---------------+\n",
            "|          32.26|\n",
            "+---------------+\n",
            "\n",
            "--- 0.353853702545166 seconds ---\n"
          ]
        }
      ],
      "source": [
        "# 6. What is the \"view\" rating for the average price of a home, rounded to two decimal places, where the homes are greater than\n",
        "# or equal to $350,000? Although this is a small dataset, determine the run time for this query.\n",
        "\n",
        "start_time = time.time()\n",
        "\n",
        "# SparkSQL query to calculate the average \"view\" rating for homes with a price greater than or equal to $350,000\n",
        "average_view_query = \"\"\"\n",
        "SELECT\n",
        "    ROUND(AVG(view), 2) as avg_view_rating\n",
        "FROM\n",
        "    home_sales\n",
        "WHERE\n",
        "    price >= 350000\n",
        "\"\"\"\n",
        "\n",
        "# Execute the query\n",
        "average_view_result = spark.sql(average_view_query)\n",
        "\n",
        "# Show the result\n",
        "average_view_result.show()\n",
        "\n",
        "\n",
        "\n",
        "print(\"--- %s seconds ---\" % (time.time() - start_time))"
      ]
    },
    {
      "cell_type": "code",
      "execution_count": 44,
      "metadata": {
        "id": "KAhk3ZD2tFy8",
        "colab": {
          "base_uri": "https://localhost:8080/"
        },
        "outputId": "b0f5893c-39f3-4099-d79d-9ac9b5f835c3"
      },
      "outputs": [
        {
          "output_type": "stream",
          "name": "stdout",
          "text": [
            "Is home_sales_view cached: True\n"
          ]
        }
      ],
      "source": [
        "# 7. Cache the the temporary table home_sales.\n",
        "\n",
        "spark.catalog.cacheTable(\"home_sales\")\n",
        "\n",
        "# Check if the table is cached\n",
        "print(\"Is home_sales_view cached:\", spark.catalog.isCached(\"home_sales\"))\n"
      ]
    },
    {
      "cell_type": "code",
      "execution_count": 45,
      "metadata": {
        "id": "4opVhbvxtL-i",
        "colab": {
          "base_uri": "https://localhost:8080/"
        },
        "outputId": "32ac4a72-2681-4bb5-c70d-c1c81891a277"
      },
      "outputs": [
        {
          "output_type": "execute_result",
          "data": {
            "text/plain": [
              "True"
            ]
          },
          "metadata": {},
          "execution_count": 45
        }
      ],
      "source": [
        "# 8. Check if the table is cached.\n",
        "spark.catalog.isCached('home_sales')"
      ]
    },
    {
      "cell_type": "code",
      "execution_count": 48,
      "metadata": {
        "colab": {
          "base_uri": "https://localhost:8080/"
        },
        "id": "5GnL46lwTSEk",
        "outputId": "1e8b2629-4a21-4443-ffb4-138f5d97f50b"
      },
      "outputs": [
        {
          "output_type": "stream",
          "name": "stdout",
          "text": [
            "+---------------+\n",
            "|avg_view_rating|\n",
            "+---------------+\n",
            "|          32.26|\n",
            "+---------------+\n",
            "\n",
            "--- Cached Runtime: 0.3128805160522461 seconds ---\n",
            "+---------------+\n",
            "|avg_view_rating|\n",
            "+---------------+\n",
            "|          32.26|\n",
            "+---------------+\n",
            "\n",
            "--- Uncached Runtime: 0.40084028244018555 seconds ---\n"
          ]
        }
      ],
      "source": [
        "# 9. Using the cached data, run the query that filters out the view ratings with average price\n",
        "#  greater than or equal to $350,000. Determine the runtime and compare it to uncached runtime.\n",
        "\n",
        "start_time_cached = time.time()\n",
        "\n",
        "# SparkSQL query with cached data to filter out view ratings with average price >= $350,000\n",
        "filtered_view_query_cached = \"\"\"\n",
        "SELECT\n",
        "    ROUND(AVG(view), 2) as avg_view_rating\n",
        "FROM\n",
        "    home_sales\n",
        "WHERE\n",
        "    price >= 350000\n",
        "\"\"\"\n",
        "\n",
        "# Execute the query with cached data\n",
        "filtered_view_result_cached = spark.sql(filtered_view_query_cached)\n",
        "\n",
        "# Show the result\n",
        "filtered_view_result_cached.show()\n",
        "\n",
        "# Print the runtime with cached data\n",
        "print(\"--- Cached Runtime: %s seconds ---\" % (time.time() - start_time_cached))\n",
        "\n",
        "\n",
        "# Uncache the table\n",
        "spark.catalog.uncacheTable(\"home_sales_view\")\n",
        "\n",
        "# Start the timer for uncached data\n",
        "start_time_uncached = time.time()\n",
        "\n",
        "# SparkSQL query without cached data to filter out view ratings with average price >= $350,000\n",
        "filtered_view_query_uncached = \"\"\"\n",
        "SELECT\n",
        "    ROUND(AVG(view), 2) as avg_view_rating\n",
        "FROM\n",
        "    home_sales\n",
        "WHERE\n",
        "    price >= 350000\n",
        "\"\"\"\n",
        "\n",
        "# Execute the query without cached data\n",
        "filtered_view_result_uncached = spark.sql(filtered_view_query_uncached)\n",
        "\n",
        "# Show the result\n",
        "filtered_view_result_uncached.show()\n",
        "\n",
        "# Print the runtime without cached data\n",
        "print(\"--- Uncached Runtime: %s seconds ---\" % (time.time() - start_time_uncached))\n"
      ]
    },
    {
      "cell_type": "code",
      "execution_count": 49,
      "metadata": {
        "id": "Qm12WN9isHBR"
      },
      "outputs": [],
      "source": [
        "# 10. Partition by the \"date_built\" field on the formatted parquet home sales data\n",
        "partitioned_parquet_path = \"path/to/partitioned_home_sales\"\n",
        "\n",
        "# Write the DataFrame to partitioned Parquet format\n",
        "home_sales_df.write.partitionBy(\"date_built\").parquet(partitioned_parquet_path)"
      ]
    },
    {
      "cell_type": "code",
      "execution_count": 50,
      "metadata": {
        "id": "AZ7BgY61sRqY",
        "colab": {
          "base_uri": "https://localhost:8080/"
        },
        "outputId": "8f46c45d-7675-43a9-d4ec-3a81834ffa38"
      },
      "outputs": [
        {
          "output_type": "stream",
          "name": "stdout",
          "text": [
            "+--------------------+----------+------+--------+---------+-----------+--------+------+----------+----+----------+\n",
            "|                  id|      date| price|bedrooms|bathrooms|sqft_living|sqft_lot|floors|waterfront|view|date_built|\n",
            "+--------------------+----------+------+--------+---------+-----------+--------+------+----------+----+----------+\n",
            "|2ed8d509-7372-46d...|2021-08-06|258710|       3|        3|       1918|    9666|     1|         0|  25|      2015|\n",
            "|941bad30-eb49-4a7...|2020-05-09|229896|       3|        3|       2197|    8641|     1|         0|   3|      2015|\n",
            "|c797ca12-52cd-4b1...|2019-06-08|288650|       2|        3|       2100|   10419|     2|         0|   7|      2015|\n",
            "|0cfe57f3-28c2-472...|2019-10-04|308313|       3|        3|       1960|    9453|     2|         0|   2|      2015|\n",
            "|d715f295-2fbf-4e9...|2021-05-17|391574|       3|        2|       1635|    8040|     2|         0|  10|      2015|\n",
            "+--------------------+----------+------+--------+---------+-----------+--------+------+----------+----+----------+\n",
            "only showing top 5 rows\n",
            "\n"
          ]
        }
      ],
      "source": [
        "# 11. Read the parquet formatted data.\n",
        "\n",
        "partitioned_home_sales_df = spark.read.parquet(partitioned_parquet_path)\n",
        "\n",
        "# Show the first few rows of the DataFrame\n",
        "partitioned_home_sales_df.show(5)"
      ]
    },
    {
      "cell_type": "code",
      "execution_count": 51,
      "metadata": {
        "id": "J6MJkHfvVcvh"
      },
      "outputs": [],
      "source": [
        "# 12. Create a temporary table for the parquet data.\n",
        "partitioned_home_sales_df.createOrReplaceTempView(\"partitioned_home_sales\")"
      ]
    },
    {
      "cell_type": "code",
      "execution_count": 55,
      "metadata": {
        "colab": {
          "base_uri": "https://localhost:8080/"
        },
        "id": "G_Vhb52rU1Sn",
        "outputId": "dbdabb59-47a3-4400-964f-ca643800cc85"
      },
      "outputs": [
        {
          "output_type": "stream",
          "name": "stdout",
          "text": [
            "+---------------+\n",
            "|avg_view_rating|\n",
            "+---------------+\n",
            "|          32.26|\n",
            "+---------------+\n",
            "\n",
            "--- Parquet Runtime: 0.26195240020751953 seconds ---\n",
            "+---------------+\n",
            "|avg_view_rating|\n",
            "+---------------+\n",
            "|          32.26|\n",
            "+---------------+\n",
            "\n",
            "--- Cached Original Runtime: 0.5316915512084961 seconds ---\n"
          ]
        }
      ],
      "source": [
        "# 13. Run the query that filters out the view ratings with average price of greater than or equal to $350,000\n",
        "# with the parquet DataFrame. Round your average to two decimal places.\n",
        "# Determine the runtime and compare it to the cached version.\n",
        "\n",
        "start_time_parquet = time.time()\n",
        "\n",
        "# SparkSQL query with Parquet DataFrame to filter out view ratings with average price >= $350,000\n",
        "filtered_view_query_parquet = \"\"\"\n",
        "SELECT\n",
        "    ROUND(AVG(view), 2) as avg_view_rating\n",
        "FROM\n",
        "    partitioned_home_sales\n",
        "WHERE\n",
        "    price >= 350000\n",
        "\"\"\"\n",
        "\n",
        "# Execute the query with Parquet DataFrame\n",
        "filtered_view_result_parquet = spark.sql(filtered_view_query_parquet)\n",
        "\n",
        "# Show the result\n",
        "filtered_view_result_parquet.show()\n",
        "\n",
        "# Print the runtime with Parquet DataFrame\n",
        "print(\"--- Parquet Runtime: %s seconds ---\" % (time.time() - start_time_parquet))\n",
        "\n",
        "\n",
        "# Start the timer for cached original DataFrame\n",
        "start_time_cached_original = time.time()\n",
        "\n",
        "# SparkSQL query with cached original DataFrame to filter out view ratings with average price >= $350,000\n",
        "filtered_view_query_cached_original = \"\"\"\n",
        "SELECT\n",
        "    ROUND(AVG(view), 2) as avg_view_rating\n",
        "FROM\n",
        "    home_sales_view\n",
        "WHERE\n",
        "    price >= 350000\n",
        "\"\"\"\n",
        "\n",
        "# Execute the query with cached original DataFrame\n",
        "filtered_view_result_cached_original = spark.sql(filtered_view_query_cached_original)\n",
        "\n",
        "# Show the result\n",
        "filtered_view_result_cached_original.show()\n",
        "\n",
        "# Print the runtime with cached original DataFrame\n",
        "print(\"--- Cached Original Runtime: %s seconds ---\" % (time.time() - start_time_cached_original))"
      ]
    },
    {
      "cell_type": "code",
      "execution_count": 56,
      "metadata": {
        "id": "hjjYzQGjtbq8"
      },
      "outputs": [],
      "source": [
        "# 14. Uncache the home_sales temporary table.\n",
        "spark.catalog.uncacheTable(\"home_sales\")\n"
      ]
    },
    {
      "cell_type": "code",
      "execution_count": 57,
      "metadata": {
        "id": "Sy9NBvO7tlmm",
        "colab": {
          "base_uri": "https://localhost:8080/"
        },
        "outputId": "aad0b928-0c73-4f5a-9cf0-189aef519a68"
      },
      "outputs": [
        {
          "output_type": "execute_result",
          "data": {
            "text/plain": [
              "False"
            ]
          },
          "metadata": {},
          "execution_count": 57
        }
      ],
      "source": [
        "# 15. Check if the home_sales is no longer cached\n",
        "spark.catalog.isCached(\"home_sales\")\n"
      ]
    },
    {
      "cell_type": "code",
      "execution_count": null,
      "metadata": {
        "id": "Si-BNruRUGK3"
      },
      "outputs": [],
      "source": []
    }
  ],
  "metadata": {
    "colab": {
      "provenance": []
    },
    "gpuClass": "standard",
    "kernelspec": {
      "display_name": "Python 3 (ipykernel)",
      "language": "python",
      "name": "python3"
    },
    "language_info": {
      "codemirror_mode": {
        "name": "ipython",
        "version": 3
      },
      "file_extension": ".py",
      "mimetype": "text/x-python",
      "name": "python",
      "nbconvert_exporter": "python",
      "pygments_lexer": "ipython3",
      "version": "3.10.4"
    },
    "nteract": {
      "version": "0.28.0"
    }
  },
  "nbformat": 4,
  "nbformat_minor": 0
}